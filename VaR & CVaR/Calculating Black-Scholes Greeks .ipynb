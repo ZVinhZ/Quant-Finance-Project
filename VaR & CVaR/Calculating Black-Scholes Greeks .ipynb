{
 "cells": [
  {
   "cell_type": "markdown",
   "id": "22022745",
   "metadata": {},
   "source": [
    "# Calculating B-S Greeks \n"
   ]
  },
  {
   "cell_type": "code",
   "execution_count": 19,
   "id": "ca70c27b",
   "metadata": {},
   "outputs": [],
   "source": [
    "import numpy as np\n",
    "from scipy.stats import norm\n",
    "from py_vollib.black_scholes import black_scholes as bs\n",
    "from py_vollib.black_scholes.greeks.analytical import delta, gamma, vega, theta, rho\n"
   ]
  },
  {
   "cell_type": "code",
   "execution_count": 20,
   "id": "e60cdc52",
   "metadata": {},
   "outputs": [],
   "source": [
    "# Implementation of Black-Scholes formula\n",
    "\n",
    "# Define variables\n",
    "r = 0.01\n",
    "S = 30\n",
    "K = 40\n",
    "T = 240/365\n",
    "sigma = 0.30\n",
    "\n",
    "def blackScholes(r, S, K, T, sigma, type = \"c\"):\n",
    "    \"Calculate BS price of call/put\"\n",
    "    d1 = (np.log(S/K) + (r + sigma**2/2)*T)/(sigma*np.sqrt(T))\n",
    "    d2 = d1 - sigma*np.sqrt(T)\n",
    "    \n",
    "    try:\n",
    "        if type == \"c\":\n",
    "            price = S*norm.cdf(d1, 0, 1) - K*np.exp(-r*T)*norm.cdf(d2, 0, 1)\n",
    "        elif type == \"p\":\n",
    "            price = K*np.exp(-r*T)*norm.cdf(-d2, 0, 1) - S*norm.cdf(-d1, 0, 1)\n",
    "        return price, bs(type, S, K, T, r, sigma)\n",
    "    except:\n",
    "        print(\"Please confirm option type, either 'c' for Call or 'p' for Put!\")\n",
    "    "
   ]
  },
  {
   "cell_type": "code",
   "execution_count": 21,
   "id": "e7b2841d",
   "metadata": {},
   "outputs": [
    {
     "name": "stdout",
     "output_type": "stream",
     "text": [
      "Option Price:  (0.5132843798399405, 0.5132843798399411)\n"
     ]
    }
   ],
   "source": [
    "print(\"Option Price: \", blackScholes(r,S,K,T,sigma,\"c\"))"
   ]
  },
  {
   "cell_type": "markdown",
   "id": "14540bb8",
   "metadata": {},
   "source": [
    "# Delta\n",
    "Delta measures the rate of change of the theoretical option value with respect to the change of the underlying S.  \n",
    "Delta measures the sensitivity of an option to a shift in the underlying asset, essentially describing how much the price of the former will change for a given move in the price of the latter.  \n",
    "Delta is also commonly regarded as an indication of the probability, at any given point in time, that the option will expire in the money.  \n",
    "  \n",
    "$\\Phi$ for cdf  \n",
    "  \n",
    "$\\Delta = \\frac{\\partial V}{\\partial S}$  \n",
    "$\\Delta_{call} = \\Phi(d1)$  \n",
    "$\\Delta_{put} = -\\Phi(-d1)$"
   ]
  },
  {
   "cell_type": "code",
   "execution_count": 23,
   "id": "2868d43f",
   "metadata": {},
   "outputs": [],
   "source": [
    "def delta_calc(r, S, K, T, sigma, type = \"c\"):\n",
    "    \"Calculate delta of an option\"\n",
    "    d1 = (np.log(S/K) + (r + sigma**2/2)*T)/(sigma*np.sqrt(T))\n",
    "    \n",
    "    try:\n",
    "        if type == \"c\":\n",
    "            delta_calc = norm.cdf(d1, 0, 1)\n",
    "        elif type == \"p\":\n",
    "            delta_calc = -norm.cdf(-d1, 0, 1)\n",
    "        return delta_calc, delta(type, S, K, T, r, sigma)\n",
    "    except:\n",
    "        print(\"Please confirm option type, either 'c' for Call or 'p' for Put!\")\n",
    "    "
   ]
  },
  {
   "cell_type": "markdown",
   "id": "9843aa74",
   "metadata": {},
   "source": [
    "# Gamma  \n",
    "Delta is only useful in determining an option’s sensitivity to small movements in the underlying, because it doesn’t stay constant. The option risk parameter which measures the rate by which delta changes with shifts in the underlying price is called gamma.  \n",
    "\n",
    "Long options have positive gamma, while short options have negative. Gamma is at its highest for at-the-money and close-to-expiry options.  \n",
    "   \n",
    "$\\phi$ for pdf\n",
    "  \n",
    "$\\Gamma = \\frac{\\partial \\delta}{\\partial S} =  \\frac{\\partial^2 V}{\\partial S^2}$  \n",
    "$\\Gamma = \\frac{\\phi(d1)}{S\\sigma \\sqrt{\\tau}}$"
   ]
  },
  {
   "cell_type": "code",
   "execution_count": 22,
   "id": "98543dbf",
   "metadata": {},
   "outputs": [],
   "source": [
    "def gamma_calc(r, S, K, T, sigma, type = \"c\"):\n",
    "    \"Calculate gamma of a option\"\n",
    "    d1 = (np.log(S/K) + (r + sigma**2/2)*T)/(sigma*np.sqrt(T))\n",
    "    d2 = d1 - sigma*np.sqrt(T)\n",
    "    \n",
    "    try:\n",
    "        gamma_calc = norm.pdf(d1, 0, 1)/(S*sigma*np.sqrt(T)) \n",
    "            \n",
    "        return gamma_calc, gamma(type, S, K, T, r, sigma)\n",
    "    except:\n",
    "        print(\"Please confirm option type, either 'c' for Call or 'p' for Put!\")\n",
    "    "
   ]
  },
  {
   "cell_type": "markdown",
   "id": "5766dd84",
   "metadata": {},
   "source": [
    "# Vega\n",
    "Although vega isn’t actually a Greek letter, it’s one of the most important “Greeks” in options trading; it measures the option’s sensitivity to changes in its implied volatility, typically for a move of 1% in the latter.\n",
    "\n",
    "As with gamma, long options have positive vega, while short options have negative. Contrary to the case for gamma, though, the more time there remains until the option’s expiry, the greater its vega will be. Vega is thus one of the important risk considerations for longer-dated options. \n",
    "  \n",
    "In practice, we want to see what is sensitivity to the 1% change in volatilty same for rho\n",
    "  \n",
    "$\\upsilon = \\frac{\\partial V}{\\partial \\sigma}$  \n",
    "$\\upsilon = S\\phi(d1)\\sqrt(\\tau)$\n"
   ]
  },
  {
   "cell_type": "code",
   "execution_count": 33,
   "id": "ab61818b",
   "metadata": {},
   "outputs": [],
   "source": [
    "def vega_calc(r, S, K, T, sigma, type = \"c\"):\n",
    "    \"Calculate vega of a option\"\n",
    "    d1 = (np.log(S/K) + (r + sigma**2/2)*T)/(sigma*np.sqrt(T))\n",
    "    d2 = d1 - sigma*np.sqrt(T)\n",
    "    \n",
    "    try:\n",
    "        vega_calc = S*norm.pdf(d1, 0, 1)*np.sqrt(T) \n",
    "            \n",
    "        return vega_calc*0.01, vega(type, S, K, T, r, sigma)\n",
    "    except:\n",
    "        print(\"Please confirm option type, either 'c' for Call or 'p' for Put!\")\n",
    "    "
   ]
  },
  {
   "cell_type": "markdown",
   "id": "90985869",
   "metadata": {},
   "source": [
    "# Theta  \n",
    "Theta measures the sentivity of the value of the derivative to the passage of time.  \n",
    "\n",
    "Theta is the risk parameter used to describe the time decay in the option’s value. It’s typically expressed as the loss the option will suffer for one calendar day. For that reason, options are often quoted lower on Fridays, in order to incorporate the effects of three days’ worth of time value about to be lost.\n",
    "\n",
    "Theta can be thought of as a trade-off for gamma. Long options have negative theta, and short options have positive. \n",
    "\n",
    "We want to see the sensitivity per day. => /365\n",
    "  \n",
    "$\\Theta = -\\frac{\\partial V}{\\partial \\tau}$  \n",
    "$\\Theta_{call} = -\\frac{S\\phi(d1)\\sigma}{2\\tau} - rKexp(-rT)\\Phi(d2)$  \n",
    "$\\Theta_{put} = -\\frac{S\\phi(d1)\\sigma}{2\\tau} + rKexp(-rT)\\Phi(-d2)$"
   ]
  },
  {
   "cell_type": "code",
   "execution_count": 40,
   "id": "bf70bdaf",
   "metadata": {},
   "outputs": [],
   "source": [
    "def theta_calc(r, S, K, T, sigma, type = \"c\"):\n",
    "    \"Calculate BS price of call/put\"\n",
    "    d1 = (np.log(S/K) + (r + sigma**2/2)*T)/(sigma*np.sqrt(T))\n",
    "    d2 = d1 - sigma*np.sqrt(T)\n",
    "    \n",
    "    try:\n",
    "        if type == \"c\":\n",
    "            theta_calc = -S*norm.pdf(d1, 0, 1)*sigma/(2*np.sqrt(T)) - r*K*np.exp(-r*T)*norm.cdf(d2, 0, 1)\n",
    "        elif type == \"p\":\n",
    "            theta_calc = -S*norm.pdf(d1, 0, 1)*sigma/(2*np.sqrt(T)) + r*K*np.exp(-r*T)*norm.cdf(-d2, 0, 1)\n",
    "        return theta_calc/365, theta(type, S, K, T, r, sigma)\n",
    "    except:\n",
    "        print(\"Please confirm option type, either 'c' for Call or 'p' for Put!\")\n",
    "    "
   ]
  },
  {
   "cell_type": "markdown",
   "id": "47a8edfd",
   "metadata": {},
   "source": [
    "# Rho  \n",
    "Rho measures the sentivity to the interest rate.  \n",
    "  \n",
    "Rho is generally considered the least important of the most commonly followed Greeks. It describes an option’s sensitivity to changes in the interest rate used to derive the option’s value.\n",
    "\n",
    "An increase in interest rates will increase the underlying’s forward price, and will therefore be good for call options and bad for puts. The former therefore have positive rho, while the latter negative.  \n",
    "  \n",
    "In practice, we want to see what is sensitivity to the 1% change in interest rate.\n",
    "\n",
    "  \n",
    "$\\rho = \\frac{\\partial V}{\\partial r}$  \n",
    "$\\rho_{call} = K\\tau exp(-rT)\\Phi(d2)$  \n",
    "$\\rho_{put} = K\\tau exp(-rT)\\Phi(-d2)$  \n"
   ]
  },
  {
   "cell_type": "code",
   "execution_count": 26,
   "id": "326d7f8c",
   "metadata": {},
   "outputs": [],
   "source": [
    "def rho_calc(r, S, K, T, sigma, type=\"c\"):\n",
    "    \"Calculate rho of an option\"\n",
    "    d1 = (np.log(S/K) + (r + sigma**2/2)*T)/(sigma*np.sqrt(T))\n",
    "    d2 = d1 - sigma*np.sqrt(T)\n",
    "    try:\n",
    "        if type == \"c\":\n",
    "            rho_calc = K*T*np.exp(-r*T)*norm.cdf(d2, 0, 1)\n",
    "        elif type == \"p\":\n",
    "            rho_calc = -K*T*np.exp(-r*T)*norm.cdf(-d2, 0, 1)\n",
    "        return rho_calc*0.01, rho(type, S, K, T, r, sigma)\n",
    "    except:\n",
    "        print(\"Please confirm option type, either 'c' for Call or 'p' for Put!\")"
   ]
  },
  {
   "cell_type": "markdown",
   "id": "92ac8187",
   "metadata": {},
   "source": [
    "# All together"
   ]
  },
  {
   "cell_type": "code",
   "execution_count": 41,
   "id": "00731ecf",
   "metadata": {},
   "outputs": [
    {
     "name": "stdout",
     "output_type": "stream",
     "text": [
      "Option Price:  [0.513, 0.513]\n",
      "       Delta:  [0.151, 0.151]\n",
      "       Gamma:  [0.032, 0.032]\n",
      "       Vega :  [0.057, 0.057]\n",
      "       Theta:  [-0.004, -0.004]\n",
      "       Rho  :  [0.026, 0.026]\n"
     ]
    }
   ],
   "source": [
    "option_type = 'c'  \n",
    "  \n",
    "print(\"Option Price: \", [round(x,3) for x in blackScholes(r, S, K, T, sigma, option_type)])\n",
    "print(\"       Delta: \", [round(x,3) for x in delta_calc(r, S, K, T, sigma, option_type)])\n",
    "print(\"       Gamma: \", [round(x,3) for x in gamma_calc(r, S, K, T, sigma, option_type)])\n",
    "print(\"       Vega : \", [round(x,3) for x in vega_calc(r, S, K, T, sigma, option_type)])\n",
    "print(\"       Theta: \", [round(x,3) for x in theta_calc(r, S, K, T, sigma, option_type)])\n",
    "print(\"       Rho  : \", [round(x,3) for x in rho_calc(r, S, K, T, sigma, option_type)])\n"
   ]
  }
 ],
 "metadata": {
  "kernelspec": {
   "display_name": "Python 3 (ipykernel)",
   "language": "python",
   "name": "python3"
  },
  "language_info": {
   "codemirror_mode": {
    "name": "ipython",
    "version": 3
   },
   "file_extension": ".py",
   "mimetype": "text/x-python",
   "name": "python",
   "nbconvert_exporter": "python",
   "pygments_lexer": "ipython3",
   "version": "3.10.2"
  }
 },
 "nbformat": 4,
 "nbformat_minor": 5
}
